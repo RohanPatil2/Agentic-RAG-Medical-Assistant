{
  "cells": [
    {
      "cell_type": "code",
      "execution_count": 1,
      "metadata": {
        "id": "Lb5zwVzJdqq8"
      },
      "outputs": [
        {
          "name": "stderr",
          "output_type": "stream",
          "text": [
            "c:\\Users\\sathv\\anaconda3\\envs\\ragenv\\lib\\site-packages\\tqdm\\auto.py:21: TqdmWarning: IProgress not found. Please update jupyter and ipywidgets. See https://ipywidgets.readthedocs.io/en/stable/user_install.html\n",
            "  from .autonotebook import tqdm as notebook_tqdm\n"
          ]
        }
      ],
      "source": [
        "from langchain_ollama import OllamaLLM\n",
        "import evaluate\n",
        "from datasets import load_dataset"
      ]
    },
    {
      "cell_type": "code",
      "execution_count": 2,
      "metadata": {
        "id": "eJSdNofheAva"
      },
      "outputs": [],
      "source": [
        "llm = OllamaLLM(model=\"hf.co/sathvik123/llama3-finnace-chat-gguf\")"
      ]
    },
    {
      "cell_type": "code",
      "execution_count": 3,
      "metadata": {
        "colab": {
          "base_uri": "https://localhost:8080/",
          "height": 109
        },
        "id": "1CDrv49GeBrW",
        "outputId": "4c959a09-869a-4ce4-c552-544edf2d0ce7"
      },
      "outputs": [
        {
          "data": {
            "text/plain": [
              "\"It's generally considered wise to invest your money in a responsible and informed manner. However, investing small amounts of money short-term can be a good strategy for several reasons:\\n\\n1. Compound interest: Investing small amounts regularly over time allows you to take advantage of compound interest. This means that the interest earned on your investment will earn interest itself, leading to exponential growth.\\n\\n2. Diversification: Investing small amounts in different assets or securities helps to diversify your portfolio, reducing risk and increasing potential returns.\\n\\n3. Habit formation: Investing small amounts regularly can help you develop a savings habit and build discipline in managing your finances.\\n\\n4. Low-cost investing: With the advent of low-cost index funds or ETFs, it's possible to invest with lower fees compared to actively managed funds. This can be especially beneficial for short-term investments where frequent buying and selling may occur.\\n\\n5. Emotional detachment: Investing small amounts allows you to detach from emotional market fluctuations and focus on long-term goals. It helps to reduce the impact of market volatility on your investment decisions.\\n\\nSome popular options for investing small amounts of money short-term include:\\n\\n1. Index funds or ETFs: These investments track a specific market index, such as the S&P 500, and offer broad diversification at a low cost.\\n\\n2. High-yield savings accounts: These accounts typically offer higher interest rates than traditional savings accounts, making them suitable for short-term deposits.\\n\\n3. Peer-to-peer lending platforms: Platforms like Lending Club or Prosper allow you to lend money to individuals or businesses with the potential for higher returns compared to traditional fixed-income investments.\\n\\n4. Micro-investing apps: Apps like Acorns or Digit invest small amounts of money automatically and offer a diversified portfolio.\\n\\nBefore investing, consider the following:\\n\\n1. Assess your financial goals: Determine if short-term investment aligns with your current financial objectives.\\n\\n2. Understand the risks: Short-term investments often come with market risk, liquidity risk, and volatility. Make sure you're comfortable with these factors.\\n\\n3. Choose the right investment vehicle: Select an investment that aligns with your risk tolerance, time horizon, and financial goals.\\n\\n4. Start small but be consistent: Begin with a manageable amount and commit to investing regularly to build discipline and develop a savings habit.\\n\\n5. Educate yourself: Continuously learn about investing and stay updated on market developments to make informed decisions.\\n\\nRemember that short-term investments should not replace long-term planning or emergency savings. It's essential to maintain a balanced approach to your overall financial strategy.\""
            ]
          },
          "execution_count": 3,
          "metadata": {},
          "output_type": "execute_result"
        }
      ],
      "source": [
        "llm.invoke(\"Is it wise to invest small amounts of money short-term?\")"
      ]
    },
    {
      "cell_type": "code",
      "execution_count": 4,
      "metadata": {
        "id": "FEeHs0L8eMuB"
      },
      "outputs": [],
      "source": [
        "def load_data():\n",
        "    dataset = load_dataset(\"poornima9348/finance-alpaca-1k-test\", split=\"test\")\n",
        "    return dataset[:100]"
      ]
    },
    {
      "cell_type": "code",
      "execution_count": 5,
      "metadata": {
        "id": "WegCUZ-0eOnw"
      },
      "outputs": [],
      "source": [
        "def generate_predictions(llm, dataset, prompt_template):\n",
        "    predictions = []\n",
        "    references = []\n",
        "\n",
        "    for row in dataset[\"instruction\"]:\n",
        "        input = prompt_template.format(row)\n",
        "        response = llm.invoke(input)\n",
        "        predictions.append(response.strip())\n",
        "\n",
        "    for row in dataset[\"output\"]:\n",
        "        references.append(row.strip())\n",
        "\n",
        "    return predictions, references"
      ]
    },
    {
      "cell_type": "code",
      "execution_count": 6,
      "metadata": {
        "id": "pjuhPXO6ePen"
      },
      "outputs": [],
      "source": [
        "def compute_scores(predictions, references):\n",
        "    rouge_metric = evaluate.load(\"rouge\")\n",
        "    meteor_metric = evaluate.load(\"meteor\")\n",
        "\n",
        "    rouge_score = rouge_metric.compute(predictions=predictions, references=references)\n",
        "    meteor_score = meteor_metric.compute(predictions=predictions, references=references)\n",
        "\n",
        "    return {\n",
        "        \"ROUGE\": rouge_score,\n",
        "        \"METEOR\": meteor_score\n",
        "    }"
      ]
    },
    {
      "cell_type": "code",
      "execution_count": 7,
      "metadata": {
        "id": "w-xdH0_seSwR"
      },
      "outputs": [],
      "source": [
        "my_prompt = \"\"\"\n",
        "### Instruction:\n",
        "You are a financial advisor chatbot that provides clear, accurate, and helpful responses to financial questions. Explain financial concepts in simple terms, offer relevant examples when appropriate, and ensure your answers are concise, objective, and tailored to the user's query.\n",
        "\n",
        "### Input:\n",
        "{}\n",
        "\"\"\""
      ]
    },
    {
      "cell_type": "code",
      "execution_count": 8,
      "metadata": {
        "id": "SIx1iBb9ewtt"
      },
      "outputs": [],
      "source": [
        "data = load_data()"
      ]
    },
    {
      "cell_type": "code",
      "execution_count": 9,
      "metadata": {
        "id": "9H9Rc5TUeUUv"
      },
      "outputs": [],
      "source": [
        "# Generate predictions\n",
        "predictions, references = generate_predictions(llm, data, my_prompt)"
      ]
    },
    {
      "cell_type": "code",
      "execution_count": 10,
      "metadata": {
        "id": "4mLixnshztiN"
      },
      "outputs": [
        {
          "name": "stderr",
          "output_type": "stream",
          "text": [
            "Downloading builder script: 100%|██████████| 7.02k/7.02k [00:00<?, ?B/s]\n",
            "[nltk_data] Downloading package wordnet to\n",
            "[nltk_data]     C:\\Users\\sathv\\AppData\\Roaming\\nltk_data...\n",
            "[nltk_data]   Package wordnet is already up-to-date!\n",
            "[nltk_data] Downloading package punkt_tab to\n",
            "[nltk_data]     C:\\Users\\sathv\\AppData\\Roaming\\nltk_data...\n",
            "[nltk_data]   Unzipping tokenizers\\punkt_tab.zip.\n",
            "[nltk_data] Downloading package omw-1.4 to\n",
            "[nltk_data]     C:\\Users\\sathv\\AppData\\Roaming\\nltk_data...\n",
            "[nltk_data]   Package omw-1.4 is already up-to-date!\n"
          ]
        },
        {
          "data": {
            "text/plain": [
              "{'ROUGE': {'rouge1': 0.22327770766125699,\n",
              "  'rouge2': 0.03247719263014715,\n",
              "  'rougeL': 0.10862682050052778,\n",
              "  'rougeLsum': 0.14947534225092715},\n",
              " 'METEOR': {'meteor': 0.224027052286671}}"
            ]
          },
          "execution_count": 10,
          "metadata": {},
          "output_type": "execute_result"
        }
      ],
      "source": [
        "compute_scores(predictions, references)"
      ]
    }
  ],
  "metadata": {
    "accelerator": "GPU",
    "colab": {
      "gpuType": "T4",
      "provenance": []
    },
    "kernelspec": {
      "display_name": "Python 3",
      "name": "python3"
    },
    "language_info": {
      "codemirror_mode": {
        "name": "ipython",
        "version": 3
      },
      "file_extension": ".py",
      "mimetype": "text/x-python",
      "name": "python",
      "nbconvert_exporter": "python",
      "pygments_lexer": "ipython3",
      "version": "3.9.20"
    }
  },
  "nbformat": 4,
  "nbformat_minor": 0
}
