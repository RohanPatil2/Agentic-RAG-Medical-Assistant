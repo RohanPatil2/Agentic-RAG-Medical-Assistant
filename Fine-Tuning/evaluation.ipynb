{
  "cells": [
    {
      "cell_type": "code",
      "execution_count": 1,
      "metadata": {
        "id": "Lb5zwVzJdqq8"
      },
      "outputs": [
        {
          "name": "stderr",
          "output_type": "stream",
          "text": [
            "c:\\Users\\sathv\\anaconda3\\envs\\ragenv\\lib\\site-packages\\tqdm\\auto.py:21: TqdmWarning: IProgress not found. Please update jupyter and ipywidgets. See https://ipywidgets.readthedocs.io/en/stable/user_install.html\n",
            "  from .autonotebook import tqdm as notebook_tqdm\n"
          ]
        }
      ],
      "source": [
        "from langchain_ollama import OllamaLLM\n",
        "import evaluate\n",
        "from datasets import load_dataset"
      ]
    },
    {
      "cell_type": "code",
      "execution_count": 4,
      "metadata": {
        "id": "eJSdNofheAva"
      },
      "outputs": [],
      "source": [
        "llm = OllamaLLM(model=\"hf.co/sathvik123/llama3-ChatDoc\")"
      ]
    },
    {
      "cell_type": "code",
      "execution_count": 5,
      "metadata": {
        "colab": {
          "base_uri": "https://localhost:8080/",
          "height": 109
        },
        "id": "1CDrv49GeBrW",
        "outputId": "4c959a09-869a-4ce4-c552-544edf2d0ce7"
      },
      "outputs": [
        {
          "data": {
            "text/plain": [
              "'Vitamin D-dependent rickets is a genetic disorder that affects bone mineralization and density. It can be divided into two forms:\\n1. Vitamin D-dependent rickets type 1 (VDDR1): This form results from a deficiency of the enzyme 25-hydroxyvitamin D-1 alpha-hydroxylase, which converts vitamin D to its active metabolite.\\n2. Vitamin D-dependent rickets type 2 (VDDR2): This form is caused by resistance to the action of vitamin D in bone cells.\\n\\nThe recommended treatments for both forms are as follows:\\nA. Vitamin D supplementation: Vitamin D and its analogues (e.g., calcitriol) can be used to treat VDR1.\\nB. Calciferol or cholecalciferol supplements: Vitamin D preparations are administered orally, usually in the form of ergocalciferol, cholecalciferol, or dihydrotachysterone (DHT).\\nC. Calcium supplementation: Calcium is important for bone health; patients with vitamin D-dependent rickets should take calcium-rich foods like dairy products, fish, and leafy greens.\\nD. Phosphate therapy: In cases of severe phosphate deficiency, the patient may require phosphate supplements.\\nE. Medications to control symptoms:\\n    1. Bisphosphonates: They help strengthen bones by reducing bone resorption, which in turn leads to improved bone mineralization.\\n    2. Calcitonin: This medication can help lower serum calcium levels when they become elevated due to increased bone resorption.\\n    3. Vitamin D analogues: Calcitriol (Vitamin D3) is also used to treat vitamin D-dependent rickets, especially when the disorder is resistant to other treatments.\\n\\nSurgeries may be necessary in some cases, such as:\\n1. Correcting bowed legs with orthopedic devices or surgery.\\n2. Surgical interventions for bone fractures related to weakened bones due to vitamin D deficiency.\\n\\nIn addition to these medical treatments, patients should maintain a healthy lifestyle by consuming a well-balanced diet rich in vitamins and minerals. They can also consult their physicians about taking calcium and vitamin supplements regularly if recommended.'"
            ]
          },
          "execution_count": 5,
          "metadata": {},
          "output_type": "execute_result"
        }
      ],
      "source": [
        "llm.invoke(\"What are the treatments for vitamin D-dependent rickets?\")"
      ]
    },
    {
      "cell_type": "code",
      "execution_count": 6,
      "metadata": {
        "id": "WegCUZ-0eOnw"
      },
      "outputs": [],
      "source": [
        "def generate_predictions(llm, dataset, prompt_template):\n",
        "    predictions = []\n",
        "    references = []\n",
        "\n",
        "    for row in dataset[\"input\"]:\n",
        "        input = prompt_template.format(row)\n",
        "        response = llm.invoke(input)\n",
        "        predictions.append(response.strip())\n",
        "\n",
        "    for row in dataset[\"output\"]:\n",
        "        references.append(row.strip())\n",
        "\n",
        "    return predictions, references"
      ]
    },
    {
      "cell_type": "code",
      "execution_count": 7,
      "metadata": {
        "id": "pjuhPXO6ePen"
      },
      "outputs": [],
      "source": [
        "def compute_scores(predictions, references):\n",
        "    rouge_metric = evaluate.load(\"rouge\")\n",
        "    bleu_metric = evaluate.load(\"bleu\")\n",
        "    meteor_metric = evaluate.load(\"meteor\")\n",
        "\n",
        "    rouge_score = rouge_metric.compute(predictions=predictions, references=references)\n",
        "    bleu_score = bleu_metric.compute(predictions=predictions, references=references)\n",
        "    meteor_score = meteor_metric.compute(predictions=predictions, references=references)\n",
        "\n",
        "    return {\n",
        "        \"ROUGE\": rouge_score,\n",
        "        \"BLEU\": bleu_score,\n",
        "        \"METEOR\": meteor_score\n",
        "    }"
      ]
    },
    {
      "cell_type": "code",
      "execution_count": 8,
      "metadata": {
        "id": "w-xdH0_seSwR"
      },
      "outputs": [],
      "source": [
        "my_prompt = \"\"\"\n",
        "instruction:\n",
        "You are a doctor, please answer the medical questions based on the patient's description. Answer clearly and professionally.\n",
        "question:{}\n",
        "\"\"\""
      ]
    },
    {
      "cell_type": "code",
      "execution_count": 9,
      "metadata": {
        "id": "SIx1iBb9ewtt"
      },
      "outputs": [
        {
          "name": "stderr",
          "output_type": "stream",
          "text": [
            "Generating train split: 100%|██████████| 89732/89732 [00:00<00:00, 287644.07 examples/s]\n",
            "Generating test split: 100%|██████████| 22433/22433 [00:00<00:00, 305145.90 examples/s]\n"
          ]
        }
      ],
      "source": [
        "data = load_dataset(\"sathvik123/llama3-medical-dataset\", split = \"test\")"
      ]
    },
    {
      "cell_type": "code",
      "execution_count": 12,
      "metadata": {
        "id": "9H9Rc5TUeUUv"
      },
      "outputs": [],
      "source": [
        "# Generate predictions\n",
        "predictions, references = generate_predictions(llm, data[:100], my_prompt)"
      ]
    },
    {
      "cell_type": "code",
      "execution_count": 13,
      "metadata": {},
      "outputs": [
        {
          "name": "stderr",
          "output_type": "stream",
          "text": [
            "[nltk_data] Downloading package wordnet to\n",
            "[nltk_data]     C:\\Users\\sathv\\AppData\\Roaming\\nltk_data...\n",
            "[nltk_data]   Package wordnet is already up-to-date!\n",
            "[nltk_data] Downloading package punkt_tab to\n",
            "[nltk_data]     C:\\Users\\sathv\\AppData\\Roaming\\nltk_data...\n",
            "[nltk_data]   Package punkt_tab is already up-to-date!\n",
            "[nltk_data] Downloading package omw-1.4 to\n",
            "[nltk_data]     C:\\Users\\sathv\\AppData\\Roaming\\nltk_data...\n",
            "[nltk_data]   Package omw-1.4 is already up-to-date!\n"
          ]
        },
        {
          "data": {
            "text/plain": [
              "{'ROUGE': {'rouge1': 0.28727765213178447,\n",
              "  'rouge2': 0.03895816149286061,\n",
              "  'rougeL': 0.1431158009622706,\n",
              "  'rougeLsum': 0.15246203020417862},\n",
              " 'BLEU': {'bleu': 0.016538649204154533,\n",
              "  'precisions': [0.2527598896044158,\n",
              "   0.03498727735368957,\n",
              "   0.00657282456956724,\n",
              "   0.0012871518839223028],\n",
              "  'brevity_penalty': 1.0,\n",
              "  'length_ratio': 1.5229422066549911,\n",
              "  'translation_length': 17392,\n",
              "  'reference_length': 11420},\n",
              " 'METEOR': {'meteor': 0.25571056331054287}}"
            ]
          },
          "execution_count": 13,
          "metadata": {},
          "output_type": "execute_result"
        }
      ],
      "source": [
        "compute_scores(predictions, references)"
      ]
    }
  ],
  "metadata": {
    "accelerator": "GPU",
    "colab": {
      "gpuType": "T4",
      "provenance": []
    },
    "kernelspec": {
      "display_name": "Python 3",
      "name": "python3"
    },
    "language_info": {
      "codemirror_mode": {
        "name": "ipython",
        "version": 3
      },
      "file_extension": ".py",
      "mimetype": "text/x-python",
      "name": "python",
      "nbconvert_exporter": "python",
      "pygments_lexer": "ipython3",
      "version": "3.9.20"
    }
  },
  "nbformat": 4,
  "nbformat_minor": 0
}
